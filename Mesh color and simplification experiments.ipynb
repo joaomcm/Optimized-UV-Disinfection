{
 "cells": [
  {
   "cell_type": "code",
   "execution_count": null,
   "id": "c4b3ecac",
   "metadata": {},
   "outputs": [],
   "source": [
    "import trimesh as tm\n",
    "mesh_file = '/home/motion/Optimized-UV-Disinfection/data/environment_meshes/Single Scene Example - ScanNet0000_00/estimate_native_5_cm.ply'"
   ]
  },
  {
   "cell_type": "markdown",
   "id": "1c15e181",
   "metadata": {},
   "source": [
    "# Using Trimesh"
   ]
  },
  {
   "cell_type": "code",
   "execution_count": null,
   "id": "65501353",
   "metadata": {},
   "outputs": [],
   "source": [
    "from alphashape import alphashape\n",
    "import shapely\n",
    "import numpy as np"
   ]
  },
  {
   "cell_type": "code",
   "execution_count": null,
   "id": "abdc2ec5",
   "metadata": {},
   "outputs": [],
   "source": [
    "a = tm.exchange.load.load(mesh_file)\n",
    "a.show()"
   ]
  },
  {
   "cell_type": "code",
   "execution_count": null,
   "id": "28980f51",
   "metadata": {},
   "outputs": [],
   "source": [
    "conn_components = tm.graph.split(a, only_watertight = False)\n",
    "\n",
    "import random\n",
    "# maximum_connected_component = \n",
    "max_faces = 0\n",
    "random.shuffle(conn_components)\n",
    "for component in conn_components:\n",
    "    if(component.faces.shape[0]>max_faces):\n",
    "        max_faces = component.faces.shape[0]\n",
    "        maximum_connected_component  = component\n",
    "maximum_connected_component.show()"
   ]
  },
  {
   "cell_type": "code",
   "execution_count": null,
   "id": "50fa4fa8",
   "metadata": {},
   "outputs": [],
   "source": [
    "%%time \n",
    "projection = maximum_connected_component.vertices[:,:2]\n",
    "alpha_shape = alphashape(projection,2)\n",
    "alpha_shape"
   ]
  },
  {
   "cell_type": "code",
   "execution_count": null,
   "id": "cd2dbaad",
   "metadata": {},
   "outputs": [],
   "source": [
    "dir(alpha_shape)"
   ]
  },
  {
   "cell_type": "code",
   "execution_count": null,
   "id": "3928f35e",
   "metadata": {},
   "outputs": [],
   "source": [
    "%%time\n",
    "bounds = alpha_shape.bounds\n",
    "resolution = 0.25\n",
    "robot_height = 1.5\n",
    "x_ = np.arange(bounds[0] - resolution,bounds[2]+resolution,resolution)\n",
    "y_ = np.arange(bounds[1] - resolution,bounds[3]+resolution,resolution)\n",
    "z_ = np.arange(0,robot_height+resolution,resolution)\n",
    "x,y,z = np.meshgrid(x_,y_,z_,indexing = 'ij')\n",
    "x = x.flatten()\n",
    "y = y.flatten()\n",
    "z = z.flatten()\n",
    "sampling_places = np.zeros(shape = (z.shape[0],3))\n",
    "sampling_places[:,0] = x\n",
    "sampling_places[:,1] = y\n",
    "sampling_places[:,2] = z\n",
    "multipoint = shapely.geometry.MultiPoint(sampling_places[:,:2])\n",
    "result = []\n",
    "for point in list(multipoint):\n",
    "    result.append(alpha_shape.contains(point))\n",
    "sampling_places = sampling_places[result]\n",
    "# result = alpha_shape.intersection(multipoint)"
   ]
  },
  {
   "cell_type": "code",
   "execution_count": null,
   "id": "886d07e7",
   "metadata": {},
   "outputs": [],
   "source": [
    "sampling_places.shape"
   ]
  },
  {
   "cell_type": "code",
   "execution_count": null,
   "id": "e7baa0c4",
   "metadata": {},
   "outputs": [],
   "source": [
    "np.logical_and(sampling_places[:,0] in result[:,0],sampling_places[:,1] in result[:,1])"
   ]
  },
  {
   "cell_type": "code",
   "execution_count": null,
   "id": "b2e0e950",
   "metadata": {},
   "outputs": [],
   "source": [
    "def get_maximum_connected_component_mesh(mesh_file):\n",
    "    full_mesh = tm.exchange.load.load(mesh_file)\n",
    "    conn_components = tm.graph.split(full_mesh, only_watertight = False)\n",
    "    max_faces = 0\n",
    "    for component in conn_components:\n",
    "        if(component.faces.shape[0]>max_faces):\n",
    "            max_faces = component.faces.shape[0]\n",
    "            maximum_connected_component  = component\n",
    "    return maximum_connected_component\n",
    "\n",
    "def get_sampling_places(mesh_file,resolution = 5000,robot_height = 1.5,convex_scale = 0.9,alpha = 2):\n",
    "    resolution = resolution/1000\n",
    "    mesh = get_maximum_connected_component_mesh(mesh_file)\n",
    "    projection = mesh.vertices[mesh.vertices[:,2]<0.3,:2]\n",
    "\n",
    "    alpha_shape = alphashape(projection,alpha)\n",
    "    max_area = 0\n",
    "#     if(len(alpha_shape) > 1):\n",
    "#         for shape in alpha_shape:\n",
    "#             if(shape.area>max_area):\n",
    "#                 max_area = shape.area\n",
    "#                 final_shape = shape\n",
    "#         alpha_shape = final_shape\n",
    "    bounds = alpha_shape.bounds\n",
    "    x_ = np.arange(bounds[0] - resolution,bounds[2]+resolution,resolution)\n",
    "    y_ = np.arange(bounds[1] - resolution,bounds[3]+resolution,resolution)\n",
    "    z_ = np.arange(0,robot_height+resolution,resolution)\n",
    "    x,y,z = np.meshgrid(x_,y_,z_,indexing = 'ij')\n",
    "    x = x.flatten()\n",
    "    y = y.flatten()\n",
    "    z = z.flatten()\n",
    "    sampling_places = np.zeros(shape = (z.shape[0],3))\n",
    "    sampling_places[:,0] = x\n",
    "    sampling_places[:,1] = y\n",
    "    sampling_places[:,2] = z\n",
    "    print(sampling_places.shape)\n",
    "    multipoint = shapely.geometry.MultiPoint(sampling_places[:,:2])\n",
    "    result = []\n",
    "    for point in list(multipoint):\n",
    "        result.append(alpha_shape.contains(point))\n",
    "    sampling_places = sampling_places[result]\n",
    "    print(\"\\n\\n\\n\\n this is the shape of sampling places  = {} \\n\\n\\n\\n\\n\".format(sampling_places.shape))\n",
    "    \n",
    "    return sampling_places,mesh,alpha_shape,multipoint\n",
    "\n",
    "a, b, alpha_shape,mp = get_sampling_places(mesh_file,resolution = 250)"
   ]
  },
  {
   "cell_type": "code",
   "execution_count": null,
   "id": "5603a531",
   "metadata": {},
   "outputs": [],
   "source": [
    "alpha_shape.buffer()"
   ]
  },
  {
   "cell_type": "code",
   "execution_count": null,
   "id": "fe7a6089",
   "metadata": {},
   "outputs": [],
   "source": [
    "type(alpha_shape.buffer(-0.5))"
   ]
  },
  {
   "cell_type": "code",
   "execution_count": null,
   "id": "933e2ed1",
   "metadata": {},
   "outputs": [],
   "source": [
    "multipoint"
   ]
  },
  {
   "cell_type": "code",
   "execution_count": null,
   "id": "7399a1f9",
   "metadata": {},
   "outputs": [],
   "source": [
    "b.show()"
   ]
  },
  {
   "cell_type": "code",
   "execution_count": null,
   "id": "3ae35c98",
   "metadata": {},
   "outputs": [],
   "source": [
    "a.visual.face_colors.shape"
   ]
  },
  {
   "cell_type": "code",
   "execution_count": null,
   "id": "54b10222",
   "metadata": {},
   "outputs": [],
   "source": [
    "a.faces.shape"
   ]
  },
  {
   "cell_type": "code",
   "execution_count": null,
   "id": "ad35a82a",
   "metadata": {},
   "outputs": [],
   "source": [
    "from visibility import Visibility\n",
    "\n",
    "mesh_file2 = './data/environment_meshes/remeshed_hospital_room_full_35k.obj'\n",
    "vis_tester =Visibility(mesh_file2,res = 512, useShader = True,createWnd = True)\n",
    "m = vis_tester.mesh"
   ]
  },
  {
   "cell_type": "code",
   "execution_count": null,
   "id": "9cb90b94",
   "metadata": {},
   "outputs": [],
   "source": [
    "m.mesh.visual.face_colors"
   ]
  },
  {
   "cell_type": "code",
   "execution_count": null,
   "id": "1125f615",
   "metadata": {},
   "outputs": [],
   "source": [
    "from glob import glob\n",
    "import pandas as pd\n",
    "import trimesh as tm\n",
    "a = glob('/home/motion//Optimized-UV-Disinfection/data/environment_meshes/aug_10_entire_val_ade20kmodel_vanilla_prob_weighting/estimated_scannet_val/*.ply')\n",
    "\n",
    "b = pd.Series(a)\n",
    "c = ~b.str.split('/',expand = True).iloc[:,-1].str.startswith('gt')\n",
    "\n",
    "estimates = b[c]\n",
    "\n",
    "d = sorted(estimates.tolist())\n",
    "\n",
    "# e = tm.exchange.load.load(d[0])\n",
    "# e.show()\n",
    "a, b, alpha_shape,mp = get_sampling_places(d[5],resolution = 500,alpha = 10)\n",
    "alpha_shape"
   ]
  },
  {
   "cell_type": "code",
   "execution_count": null,
   "id": "6d913aba",
   "metadata": {},
   "outputs": [],
   "source": [
    "type(alpha_shape) == shapely.geometry.polygon.Polygon"
   ]
  },
  {
   "cell_type": "code",
   "execution_count": null,
   "id": "f4c79d01",
   "metadata": {},
   "outputs": [],
   "source": [
    "b.show()"
   ]
  },
  {
   "cell_type": "code",
   "execution_count": null,
   "id": "1df475f8",
   "metadata": {
    "scrolled": false
   },
   "outputs": [],
   "source": [
    "type(alpha_shape)"
   ]
  },
  {
   "cell_type": "code",
   "execution_count": null,
   "id": "01cfdae6",
   "metadata": {},
   "outputs": [],
   "source": [
    "from glob import glob\n",
    "experiment = 'soft_semantic_thresholding' #'surface_agnostic'\n",
    "import pandas as pd\n",
    "done_meshes = pd.Series(glob('/home/motion/Optimized-UV-Disinfection/3D_results/Semantic/*/{}/armbot/'.format(experiment))).str.split('/',expand = True).iloc[:,-4].tolist()\n",
    "done_meshes"
   ]
  },
  {
   "cell_type": "markdown",
   "id": "e309e2d8",
   "metadata": {},
   "source": [
    "# Evaluation Code"
   ]
  },
  {
   "cell_type": "code",
   "execution_count": null,
   "id": "1a7dbc5a",
   "metadata": {},
   "outputs": [],
   "source": [
    "import pandas as pd\n",
    "from visibility import Visibility\n",
    "from glob import glob\n",
    "import trimesh as tm\n",
    "import pickle\n",
    "import os\n",
    "import numpy as np\n",
    "from scipy.sparse import lil_matrix\n",
    "from tqdm import tqdm\n",
    "\n",
    "def get_irradiance_matrix(vis_tester,sampling_places):\n",
    "    total_faces = vis_tester.mesh.mesh.faces.shape[0]\n",
    "    irradiance_matrix = lil_matrix((sampling_places.shape[0],total_faces))\n",
    "    for i in range(sampling_places.shape[0]):\n",
    "        _,irradiance = vis_tester.render(id0 =None,id1 = None,pos = sampling_places[i,:].tolist())\n",
    "        irradiance = irradiance\n",
    "        irradiance_matrix[i,np.where(irradiance > 0)] = irradiance[irradiance > 0]\n",
    "\n",
    "    return irradiance_matrix.tocsr()\n",
    "\n",
    "def evaluate_semantic_disinfection_performance(roadmap):\n",
    "    mesh_name = roadmap.split('/')[-4]\n",
    "    # we then load the mesh original mesh and its ground truth:\n",
    "    mesh_file = '/home/motion//Optimized-UV-Disinfection/data/environment_meshes/aug_10_entire_val_ade20kmodel_vanilla_prob_weighting/estimated_scannet_val/{}.ply'.format(mesh_name)\n",
    "    mesh_gt_file = '/home/motion//Optimized-UV-Disinfection/data/environment_meshes/aug_10_entire_val_ade20kmodel_vanilla_prob_weighting/estimated_scannet_val/gt_{}.ply'.format(mesh_name)\n",
    "    ground_truth_visibility = Visibility(mesh_gt_file,res = 512, useShader = True,createWnd = True)\n",
    "    main_dir = os.path.dirname(roadmap)\n",
    "    reachable_file = os.path.join(main_dir,'armbot_reachable_330_divs.p')\n",
    "    solutions_file = os.path.join(main_dir,'armbot_solutions_330_divs.p')\n",
    "    sampling_places_file = os.path.join(main_dir,'armbot_sampling_places_330_divs.p')\n",
    "\n",
    "    reachable = pickle.load(open(reachable_file,'rb'))\n",
    "    solutions = np.array(pickle.load(open(solutions_file,'rb'))[0])\n",
    "    sampling_places = pickle.load(open(sampling_places_file,'rb'))\n",
    "\n",
    "    selected_points = sampling_places[reachable,:][solutions>0,:]\n",
    "    irradiance_matrix = get_irradiance_matrix(ground_truth_visibility,selected_points)\n",
    "\n",
    "    gt_mesh = ground_truth_visibility.mesh.mesh\n",
    "    final_irradiances = 80*irradiance_matrix.transpose()@solutions[solutions>0]\n",
    "    areas = gt_mesh.area_faces\n",
    "    colors = gt_mesh.visual.face_colors\n",
    "    label = colors[:,0] >= 255\n",
    "    disinfected = final_irradiances > 280\n",
    "    total_ht_area = np.sum(areas[label])\n",
    "    total_area = np.sum(areas)\n",
    "    disinfected_ht_area = np.sum(areas[label][disinfected[label]])\n",
    "    disinfected_area = np.sum(areas[disinfected])\n",
    "    ht_area_fraction = total_ht_area/total_area\n",
    "    return mesh_name,total_area,ht_area_fraction,disinfected_ht_area/total_ht_area,disinfected_area/total_area\n",
    "\n",
    "\n",
    "\n",
    "sa_roadmap = sorted(glob('/home/motion/Optimized-UV-Disinfection/3D_results/Semantic/*/surface_agnostic/armbot/armbot_roadmap_330_divs.p'))\n",
    "# sa_sampling_places = glob('/home/motion/Optimized-UV-Disinfection/3D_results/Semantic/*/surface_agnostic/armbot/armbot_sampling_places_330_divs.p')\n",
    "\n",
    "\n",
    "sst_roadmap = sorted(glob('/home/motion/Optimized-UV-Disinfection/3D_results/Semantic/*/soft_semantic_thresholding/armbot/armbot_roadmap_330_divs.p'))\n",
    "# sst_sampling_places = glob('/home/motion/Optimized-UV-Disinfection/3D_results/Semantic/*/soft_sematic_thresholding/armbot/armbot_sampling_places_330_divs.p')\n"
   ]
  },
  {
   "cell_type": "code",
   "execution_count": null,
   "id": "b320778b",
   "metadata": {},
   "outputs": [],
   "source": [
    "# result = evaluate_semantic_disinfection_performance(sst_roadmap[0])"
   ]
  },
  {
   "cell_type": "code",
   "execution_count": null,
   "id": "56594a53",
   "metadata": {},
   "outputs": [],
   "source": [
    "roadmaps = sorted(glob('/home/motion/Optimized-UV-Disinfection/3D_results/Semantic/*/*/armbot/armbot_roadmap_330_divs.p'))\n"
   ]
  },
  {
   "cell_type": "code",
   "execution_count": null,
   "id": "4a556114",
   "metadata": {
    "scrolled": false
   },
   "outputs": [],
   "source": [
    "mesh_names = []\n",
    "experiments = []\n",
    "durations = []\n",
    "total_areas = []\n",
    "ht_area_fractions = []\n",
    "ht_disinfected_fraction = []\n",
    "total_disinfected_fraction = []\n",
    "old_mesh = ''\n",
    "for rm in tqdm(roadmaps):\n",
    "    experiment = rm.split('/')[-3]\n",
    "    duration = experiment.split('_')[-2]\n",
    "    experiments.append(experiment)\n",
    "    durations.append(duration)\n",
    "    results = evaluate_semantic_disinfection_performance(rm)\n",
    "    mesh_names.append(results[0])\n",
    "    total_areas.append(results[1])\n",
    "    ht_area_fractions.append(results[2])\n",
    "    ht_disinfected_fraction.append(results[3])\n",
    "    total_disinfected_fraction.append(results[4])\n",
    "results_df = pd.DataFrame({'mesh_name':mesh_names,'experiment':experiments,'duration':durations,'room area':total_areas,\n",
    "                          'ht_area_fraction':ht_area_fractions,'ht_disinfected_fraction':ht_disinfected_fraction,'total_disinfected_fraction':total_disinfected_fraction})"
   ]
  },
  {
   "cell_type": "code",
   "execution_count": null,
   "id": "d99c0845",
   "metadata": {},
   "outputs": [],
   "source": [
    "results_df.to_csv('./Semantic_results_shorter_time.csv',sep = '|')"
   ]
  },
  {
   "cell_type": "code",
   "execution_count": null,
   "id": "af9568e0",
   "metadata": {},
   "outputs": [],
   "source": [
    "results_df.loc[results_df.mesh_name == 'scene0011_00']"
   ]
  },
  {
   "cell_type": "code",
   "execution_count": null,
   "id": "56e7269e",
   "metadata": {},
   "outputs": [],
   "source": [
    "estimated_visibility = Visibility(mesh_file,res = 512, useShader = True,createWnd = True)\n",
    "ground_truth_visibility = Visibility(mesh_gt_file,res = 512, useShader = True,createWnd = True)"
   ]
  },
  {
   "cell_type": "code",
   "execution_count": null,
   "id": "0a0f15c4",
   "metadata": {},
   "outputs": [],
   "source": [
    "mesh_names[-1]"
   ]
  },
  {
   "cell_type": "code",
   "execution_count": null,
   "id": "f98f9636",
   "metadata": {},
   "outputs": [],
   "source": [
    "this_mesh = '/home/motion//Optimized-UV-Disinfection/data/environment_meshes/aug_10_entire_val_ade20kmodel_vanilla_prob_weighting/estimated_scannet_val/scene0011_00.ply'"
   ]
  },
  {
   "cell_type": "code",
   "execution_count": null,
   "id": "490102a0",
   "metadata": {},
   "outputs": [],
   "source": [
    "a = tm.exchange.load.load(this_mesh)\n",
    "a.show()"
   ]
  },
  {
   "cell_type": "code",
   "execution_count": null,
   "id": "25595c4c",
   "metadata": {},
   "outputs": [],
   "source": [
    "def get_sampling_places(mesh_file,resolution = 5000,robot_height = 1.5,convex_scale = 0.9,alpha = 2):\n",
    "    resolution = resolution/1000\n",
    "    mesh = get_maximum_connected_component_mesh(mesh_file)\n",
    "    projection = mesh.vertices[mesh.vertices[:,2]<0.3,:2]\n",
    "\n",
    "    alpha_shape = alphashape(projection,alpha)\n",
    "    max_area = 0\n",
    "#     if(len(alpha_shape) > 1):\n",
    "#         for shape in alpha_shape:\n",
    "#             if(shape.area>max_area):\n",
    "#                 max_area = shape.area\n",
    "#                 final_shape = shape\n",
    "#         alpha_shape = final_shape\n",
    "    bounds = alpha_shape.bounds\n",
    "    x_ = np.arange(bounds[0] - resolution,bounds[2]+resolution,resolution)\n",
    "    y_ = np.arange(bounds[1] - resolution,bounds[3]+resolution,resolution)\n",
    "    z_ = np.arange(0,robot_height+resolution,resolution)\n",
    "    x,y,z = np.meshgrid(x_,y_,z_,indexing = 'ij')\n",
    "    x = x.flatten()\n",
    "    y = y.flatten()\n",
    "    z = z.flatten()\n",
    "    sampling_places = np.zeros(shape = (z.shape[0],3))\n",
    "    sampling_places[:,0] = x\n",
    "    sampling_places[:,1] = y\n",
    "    sampling_places[:,2] = z\n",
    "    print(sampling_places.shape)\n",
    "    multipoint = shapely.geometry.MultiPoint(sampling_places[:,:2])\n",
    "    result = []\n",
    "    for point in list(multipoint):\n",
    "        result.append(alpha_shape.contains(point))\n",
    "    sampling_places = sampling_places[result]\n",
    "    print(\"\\n\\n\\n\\n this is the shape of sampling places  = {} \\n\\n\\n\\n\\n\".format(sampling_places.shape))\n",
    "    \n",
    "    return sampling_places,mesh,alpha_shape,multipoint\n",
    "a, b, alpha_shape,mp = get_sampling_places(this_mesh,resolution = 250)"
   ]
  },
  {
   "cell_type": "code",
   "execution_count": null,
   "id": "2512206a",
   "metadata": {},
   "outputs": [],
   "source": [
    "alpha_shape.area"
   ]
  },
  {
   "cell_type": "code",
   "execution_count": null,
   "id": "248d0b65",
   "metadata": {},
   "outputs": [],
   "source": [
    "b.show()"
   ]
  },
  {
   "cell_type": "markdown",
   "id": "29476018",
   "metadata": {},
   "source": [
    "# Plotting Code"
   ]
  },
  {
   "cell_type": "code",
   "execution_count": null,
   "id": "8b12aefc",
   "metadata": {},
   "outputs": [],
   "source": [
    "from glob import glob \n",
    "import pandas as pd\n",
    "from matplotlib import pyplot as plt\n",
    "\n",
    "all_meshes = glob('/home/motion//Optimized-UV-Disinfection/data/environment_meshes/aug_10_entire_val_ade20kmodel_vanilla_prob_weighting/estimated_scannet_val/*.ply')\n",
    "\n",
    "meshes_series = pd.Series(all_meshes)\n",
    "estimated_mask = ~meshes_series.str.split('/',expand = True).iloc[:,-1].str.startswith('gt')\n",
    "# we now get the number of done meshes\n",
    "\n",
    "# done_files = glob('/home/motion/Optimized-UV-Disinfection/3D_results/Semantic/*/{}/armbot/*'.format(experiment))\n",
    "# if(done_files):\n",
    "#     done_meshes = pd.Series(done_files).str.split('/',expand = True).iloc[:,-4].tolist()\n",
    "# else:\n",
    "#     done_meshes = []\n",
    "\n",
    "estimated_meshes = sorted(meshes_series[estimated_mask].tolist())"
   ]
  },
  {
   "cell_type": "code",
   "execution_count": null,
   "id": "f40831a9",
   "metadata": {},
   "outputs": [],
   "source": [
    "a = ['this is bullshit {}','this is super bullshit {}']\n",
    "b = a[0].format(12)\n",
    "a"
   ]
  },
  {
   "cell_type": "code",
   "execution_count": null,
   "id": "95f72c3e",
   "metadata": {},
   "outputs": [],
   "source": [
    "import pandas as pd\n",
    "df = pd.read_csv('./Semantic_results_shorter_time.csv',sep = '|')"
   ]
  },
  {
   "cell_type": "code",
   "execution_count": null,
   "id": "2d2ade32",
   "metadata": {},
   "outputs": [],
   "source": [
    "tmp = df.experiment.str.split('_',expand = True)\n",
    "names = tmp.loc[:,0] + '_' + tmp.loc[:,1]\n",
    "names[names.str.startswith('hard')] += '_' + tmp.loc[names.str.startswith('hard'),2]\n",
    "df['experiment_names'] = names\n",
    "\n",
    "df2 = df[df.duration < 100]\n",
    "max_disinf = df2.groupby(['mesh_name']).total_disinfected_fraction.max()"
   ]
  },
  {
   "cell_type": "code",
   "execution_count": null,
   "id": "b59fc5cd",
   "metadata": {},
   "outputs": [],
   "source": [
    "for tmp in df2.groupby('mesh_name'):\n",
    "    room_name = tmp[0]\n",
    "    max_disinfection = max_disinf[room_name]\n",
    "    title = 'HT uplift vs experiment duration {}'.format(tmp[0])\n",
    "    plt.title(title)\n",
    "    tmp = tmp[1]\n",
    "    for tmp2 in tmp.groupby('experiment_names'):\n",
    "        name = tmp2[0]\n",
    "        tmp2 = tmp2[1]\n",
    "        plt.scatter(y = (tmp2.ht_disinfected_fraction/max_disinfection-tmp2.total_disinfected_fraction/max_disinfection),x = tmp2.duration,label = name)\n",
    "    plt.legend()\n",
    "    plt.xlabel('Experiment Duration (min)')\n",
    "    plt.ylabel('ht_fraction - total_fraction \\nasymptotic (n.d.)')\n",
    "    plt.ylim([-0.1,0.1])\n",
    "    plt.savefig('./media/semantic_results/{}.pdf'.format(title))\n",
    "    plt.show()"
   ]
  },
  {
   "cell_type": "code",
   "execution_count": null,
   "id": "874e44cf",
   "metadata": {},
   "outputs": [],
   "source": [
    "tmp"
   ]
  }
 ],
 "metadata": {
  "kernelspec": {
   "display_name": "Python 3",
   "language": "python",
   "name": "python3"
  },
  "language_info": {
   "codemirror_mode": {
    "name": "ipython",
    "version": 3
   },
   "file_extension": ".py",
   "mimetype": "text/x-python",
   "name": "python",
   "nbconvert_exporter": "python",
   "pygments_lexer": "ipython3",
   "version": "3.8.10"
  },
  "toc": {
   "base_numbering": 1,
   "nav_menu": {},
   "number_sections": true,
   "sideBar": true,
   "skip_h1_title": false,
   "title_cell": "Table of Contents",
   "title_sidebar": "Contents",
   "toc_cell": false,
   "toc_position": {},
   "toc_section_display": true,
   "toc_window_display": false
  }
 },
 "nbformat": 4,
 "nbformat_minor": 5
}
